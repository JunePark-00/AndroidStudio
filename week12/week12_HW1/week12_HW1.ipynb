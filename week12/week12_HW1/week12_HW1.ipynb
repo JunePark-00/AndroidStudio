{
  "nbformat": 4,
  "nbformat_minor": 0,
  "metadata": {
    "colab": {
      "name": "week12-HW1.ipynb",
      "private_outputs": true,
      "provenance": [],
      "collapsed_sections": []
    },
    "kernelspec": {
      "name": "python3",
      "display_name": "Python 3"
    },
    "language_info": {
      "name": "python"
    }
  },
  "cells": [
    {
      "cell_type": "code",
      "metadata": {
        "id": "sgaa3hqL1M4C"
      },
      "source": [
        "import numpy as np\n",
        "import tensorflow as tf\n",
        "from tensorflow import keras\n",
        "from keras.layers import Dense\n",
        "from keras.models import Sequential"
      ],
      "execution_count": null,
      "outputs": []
    },
    {
      "cell_type": "code",
      "metadata": {
        "id": "fOwgqQP31QYz"
      },
      "source": [
        "from keras.datasets import mnist\n",
        "(X_train, Y_train), (X_test, Y_test) = mnist.load_data()\n",
        "print(\"Training data shape : \", X_train.shape)\n",
        "print(\"Training label shape : \", Y_train.shape)\n",
        "print(\"Testing data shape : \", X_test.shape)\n",
        "print(\"Testing label shape : \", Y_test.shape)"
      ],
      "execution_count": null,
      "outputs": []
    },
    {
      "cell_type": "code",
      "metadata": {
        "id": "BY-zUIF11ezT"
      },
      "source": [
        "X_train = X_train.reshape(60000, 28*28).astype('float32')/255.0\n",
        "X_test = X_test.reshape(10000, 28*28).astype('float32')/255.0\n",
        "Y_train = keras.utils.to_categorical(Y_train, 10)\n",
        "Y_test = keras.utils.to_categorical(Y_test, 10)"
      ],
      "execution_count": null,
      "outputs": []
    },
    {
      "cell_type": "code",
      "metadata": {
        "id": "F1Z3rjma14lv"
      },
      "source": [
        "model = Sequential()\n",
        "model.add(Dense(units=256, input_dim=(28*28), activation='relu'))\n",
        "model.add(Dense(units=128 , activation='relu'))\n",
        "model.add(Dense(units=64 , activation='relu'))\n",
        "model.add(Dense(units=32 , activation='relu'))\n",
        "model.add(Dense(units=10, activation='softmax'))\n",
        "model.summary()"
      ],
      "execution_count": null,
      "outputs": []
    },
    {
      "cell_type": "code",
      "metadata": {
        "id": "1qnw4qAh2NdI"
      },
      "source": [
        "model.compile(optimizer='sgd', loss='categorical_crossentropy', metrics=['accuracy'])"
      ],
      "execution_count": null,
      "outputs": []
    },
    {
      "cell_type": "code",
      "metadata": {
        "id": "83US4va72Dad"
      },
      "source": [
        "history = model.fit(X_train, Y_train, batch_size=100, epochs=30, validation_split=0.3)"
      ],
      "execution_count": null,
      "outputs": []
    },
    {
      "cell_type": "code",
      "metadata": {
        "id": "psx1_65n5KXS"
      },
      "source": [
        "loss, accuracy = model.evaluate(X_test, Y_test)\n",
        "print(f\"Test loss: {loss:.3}\")\n",
        "print(f\"Test accuracy: {accuracy:.3}\")"
      ],
      "execution_count": null,
      "outputs": []
    },
    {
      "cell_type": "code",
      "metadata": {
        "id": "naFIQQ9I5ZOP"
      },
      "source": [
        "import matplotlib.pyplot as plt\n",
        "plt.plot(history.history['accuracy'])\n",
        "plt.plot(history.history['val_accuracy'])\n",
        "plt.title('model accuracy')\n",
        "plt.ylabel('accuracy')\n",
        "plt.xlabel('epoch')\n",
        "plt.legend(['training', 'validation'], loc='best')\n",
        "plt.show()"
      ],
      "execution_count": null,
      "outputs": []
    },
    {
      "cell_type": "code",
      "metadata": {
        "id": "ilrldryv5dwd"
      },
      "source": [
        "plt.plot(history.history['loss'])\n",
        "plt.plot(history.history['val_loss'])\n",
        "plt.title('model loss')\n",
        "plt.ylabel('loss')\n",
        "plt.xlabel('epoch')\n",
        "plt.legend(['training', 'validation'], loc='best')\n",
        "plt.show()"
      ],
      "execution_count": null,
      "outputs": []
    }
  ]
}